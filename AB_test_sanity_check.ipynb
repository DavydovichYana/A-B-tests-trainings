{
  "nbformat": 4,
  "nbformat_minor": 0,
  "metadata": {
    "colab": {
      "name": "AB_test.ipynb",
      "provenance": [],
      "authorship_tag": "ABX9TyM7JqUJ0/PoPjN/W1R5jptK"
    },
    "kernelspec": {
      "name": "python3",
      "display_name": "Python 3"
    },
    "language_info": {
      "name": "python"
    }
  },
  "cells": [
    {
      "cell_type": "markdown",
      "source": [
        "Imagine we conducted a 7-days a/b-test on new button \"Start now!\" colour implementation. The results will be presented in a table \"df\", where\n",
        "\n",
        "**Ns_cont** - total number of users in control group\n",
        "\n",
        "**Ns_exp** - total number of users in experiment group\n",
        "\n",
        "**Xs_cont** - total number of clicks in control group\n",
        "\n",
        "**Xs_exp** - total number of clicks in experiment group"
      ],
      "metadata": {
        "id": "-XaPH53NkMSO"
      }
    },
    {
      "cell_type": "code",
      "execution_count": 1,
      "metadata": {
        "id": "mKSKi7K9P6Ru"
      },
      "outputs": [],
      "source": [
        "import numpy as np\n",
        "import pandas as pd"
      ]
    },
    {
      "cell_type": "code",
      "source": [
        "Xs_cont = [196, 200, 200, 216, 212, 185, 225, 187, 205, 211, 192, 196, 223, 192]\n",
        "Ns_cont = [2029, 1991, 1951, 1985, 1973, 2021, 2041, 1980, 1951, 1988, 1977, 2019, 2035, 2007]\n",
        "Xs_exp = [179, 208, 205, 175, 191, 291, 278, 216, 225, 207, 205, 200, 297, 299]\n",
        "Ns_exp = [1971, 2009, 2049, 2015, 2027, 1979, 1959, 2020, 2049, 2012, 2023, 1981, 1965, 1993]"
      ],
      "metadata": {
        "id": "sn5RIpxCP7Ea"
      },
      "execution_count": 2,
      "outputs": []
    },
    {
      "cell_type": "code",
      "source": [
        "ns_cont_sum, ns_exp_sum, xs_cont_sum, xs_exp_sum=0, 0, 0, 0\n",
        "\n",
        "for i in Ns_cont: ns_cont_sum=ns_cont_sum+i\n",
        "for i in Ns_exp: ns_exp_sum=ns_exp_sum+i\n",
        "for i in Xs_cont: xs_cont_sum=xs_cont_sum+i\n",
        "for i in Xs_exp: xs_exp_sum=xs_exp_sum+i"
      ],
      "metadata": {
        "id": "ugzClb-4XBCa"
      },
      "execution_count": 47,
      "outputs": []
    },
    {
      "cell_type": "code",
      "source": [
        "#df = pd.DataFrame([Xs_cont,Ns_cont,Xs_exp,Ns_exp]).T.rename({0:'Xs_cont',1:'Ns_cont',2:'Xs_exp',3:'Ns_exp'}, axis=1)\n",
        "df = pd.DataFrame([Xs_cont,Ns_cont,Xs_exp,Ns_exp]).rename({0:'Xs_cont',1:'Ns_cont',2:'Xs_exp',3:'Ns_exp'}, axis=0)"
      ],
      "metadata": {
        "id": "2A_HEnKlP_kP"
      },
      "execution_count": 56,
      "outputs": []
    },
    {
      "cell_type": "code",
      "source": [
        "df"
      ],
      "metadata": {
        "colab": {
          "base_uri": "https://localhost:8080/",
          "height": 175
        },
        "id": "ZTaJ_76iQQl6",
        "outputId": "a0a58feb-8e75-4ccd-c860-6c7394313688"
      },
      "execution_count": 57,
      "outputs": [
        {
          "output_type": "execute_result",
          "data": {
            "text/html": [
              "\n",
              "  <div id=\"df-a7c39133-2c9a-4cd2-a990-03f19d805291\">\n",
              "    <div class=\"colab-df-container\">\n",
              "      <div>\n",
              "<style scoped>\n",
              "    .dataframe tbody tr th:only-of-type {\n",
              "        vertical-align: middle;\n",
              "    }\n",
              "\n",
              "    .dataframe tbody tr th {\n",
              "        vertical-align: top;\n",
              "    }\n",
              "\n",
              "    .dataframe thead th {\n",
              "        text-align: right;\n",
              "    }\n",
              "</style>\n",
              "<table border=\"1\" class=\"dataframe\">\n",
              "  <thead>\n",
              "    <tr style=\"text-align: right;\">\n",
              "      <th></th>\n",
              "      <th>0</th>\n",
              "      <th>1</th>\n",
              "      <th>2</th>\n",
              "      <th>3</th>\n",
              "      <th>4</th>\n",
              "      <th>5</th>\n",
              "      <th>6</th>\n",
              "      <th>7</th>\n",
              "      <th>8</th>\n",
              "      <th>9</th>\n",
              "      <th>10</th>\n",
              "      <th>11</th>\n",
              "      <th>12</th>\n",
              "      <th>13</th>\n",
              "    </tr>\n",
              "  </thead>\n",
              "  <tbody>\n",
              "    <tr>\n",
              "      <th>Xs_cont</th>\n",
              "      <td>196</td>\n",
              "      <td>200</td>\n",
              "      <td>200</td>\n",
              "      <td>216</td>\n",
              "      <td>212</td>\n",
              "      <td>185</td>\n",
              "      <td>225</td>\n",
              "      <td>187</td>\n",
              "      <td>205</td>\n",
              "      <td>211</td>\n",
              "      <td>192</td>\n",
              "      <td>196</td>\n",
              "      <td>223</td>\n",
              "      <td>192</td>\n",
              "    </tr>\n",
              "    <tr>\n",
              "      <th>Ns_cont</th>\n",
              "      <td>2029</td>\n",
              "      <td>1991</td>\n",
              "      <td>1951</td>\n",
              "      <td>1985</td>\n",
              "      <td>1973</td>\n",
              "      <td>2021</td>\n",
              "      <td>2041</td>\n",
              "      <td>1980</td>\n",
              "      <td>1951</td>\n",
              "      <td>1988</td>\n",
              "      <td>1977</td>\n",
              "      <td>2019</td>\n",
              "      <td>2035</td>\n",
              "      <td>2007</td>\n",
              "    </tr>\n",
              "    <tr>\n",
              "      <th>Xs_exp</th>\n",
              "      <td>179</td>\n",
              "      <td>208</td>\n",
              "      <td>205</td>\n",
              "      <td>175</td>\n",
              "      <td>191</td>\n",
              "      <td>291</td>\n",
              "      <td>278</td>\n",
              "      <td>216</td>\n",
              "      <td>225</td>\n",
              "      <td>207</td>\n",
              "      <td>205</td>\n",
              "      <td>200</td>\n",
              "      <td>297</td>\n",
              "      <td>299</td>\n",
              "    </tr>\n",
              "    <tr>\n",
              "      <th>Ns_exp</th>\n",
              "      <td>1971</td>\n",
              "      <td>2009</td>\n",
              "      <td>2049</td>\n",
              "      <td>2015</td>\n",
              "      <td>2027</td>\n",
              "      <td>1979</td>\n",
              "      <td>1959</td>\n",
              "      <td>2020</td>\n",
              "      <td>2049</td>\n",
              "      <td>2012</td>\n",
              "      <td>2023</td>\n",
              "      <td>1981</td>\n",
              "      <td>1965</td>\n",
              "      <td>1993</td>\n",
              "    </tr>\n",
              "  </tbody>\n",
              "</table>\n",
              "</div>\n",
              "      <button class=\"colab-df-convert\" onclick=\"convertToInteractive('df-a7c39133-2c9a-4cd2-a990-03f19d805291')\"\n",
              "              title=\"Convert this dataframe to an interactive table.\"\n",
              "              style=\"display:none;\">\n",
              "        \n",
              "  <svg xmlns=\"http://www.w3.org/2000/svg\" height=\"24px\"viewBox=\"0 0 24 24\"\n",
              "       width=\"24px\">\n",
              "    <path d=\"M0 0h24v24H0V0z\" fill=\"none\"/>\n",
              "    <path d=\"M18.56 5.44l.94 2.06.94-2.06 2.06-.94-2.06-.94-.94-2.06-.94 2.06-2.06.94zm-11 1L8.5 8.5l.94-2.06 2.06-.94-2.06-.94L8.5 2.5l-.94 2.06-2.06.94zm10 10l.94 2.06.94-2.06 2.06-.94-2.06-.94-.94-2.06-.94 2.06-2.06.94z\"/><path d=\"M17.41 7.96l-1.37-1.37c-.4-.4-.92-.59-1.43-.59-.52 0-1.04.2-1.43.59L10.3 9.45l-7.72 7.72c-.78.78-.78 2.05 0 2.83L4 21.41c.39.39.9.59 1.41.59.51 0 1.02-.2 1.41-.59l7.78-7.78 2.81-2.81c.8-.78.8-2.07 0-2.86zM5.41 20L4 18.59l7.72-7.72 1.47 1.35L5.41 20z\"/>\n",
              "  </svg>\n",
              "      </button>\n",
              "      \n",
              "  <style>\n",
              "    .colab-df-container {\n",
              "      display:flex;\n",
              "      flex-wrap:wrap;\n",
              "      gap: 12px;\n",
              "    }\n",
              "\n",
              "    .colab-df-convert {\n",
              "      background-color: #E8F0FE;\n",
              "      border: none;\n",
              "      border-radius: 50%;\n",
              "      cursor: pointer;\n",
              "      display: none;\n",
              "      fill: #1967D2;\n",
              "      height: 32px;\n",
              "      padding: 0 0 0 0;\n",
              "      width: 32px;\n",
              "    }\n",
              "\n",
              "    .colab-df-convert:hover {\n",
              "      background-color: #E2EBFA;\n",
              "      box-shadow: 0px 1px 2px rgba(60, 64, 67, 0.3), 0px 1px 3px 1px rgba(60, 64, 67, 0.15);\n",
              "      fill: #174EA6;\n",
              "    }\n",
              "\n",
              "    [theme=dark] .colab-df-convert {\n",
              "      background-color: #3B4455;\n",
              "      fill: #D2E3FC;\n",
              "    }\n",
              "\n",
              "    [theme=dark] .colab-df-convert:hover {\n",
              "      background-color: #434B5C;\n",
              "      box-shadow: 0px 1px 3px 1px rgba(0, 0, 0, 0.15);\n",
              "      filter: drop-shadow(0px 1px 2px rgba(0, 0, 0, 0.3));\n",
              "      fill: #FFFFFF;\n",
              "    }\n",
              "  </style>\n",
              "\n",
              "      <script>\n",
              "        const buttonEl =\n",
              "          document.querySelector('#df-a7c39133-2c9a-4cd2-a990-03f19d805291 button.colab-df-convert');\n",
              "        buttonEl.style.display =\n",
              "          google.colab.kernel.accessAllowed ? 'block' : 'none';\n",
              "\n",
              "        async function convertToInteractive(key) {\n",
              "          const element = document.querySelector('#df-a7c39133-2c9a-4cd2-a990-03f19d805291');\n",
              "          const dataTable =\n",
              "            await google.colab.kernel.invokeFunction('convertToInteractive',\n",
              "                                                     [key], {});\n",
              "          if (!dataTable) return;\n",
              "\n",
              "          const docLinkHtml = 'Like what you see? Visit the ' +\n",
              "            '<a target=\"_blank\" href=https://colab.research.google.com/notebooks/data_table.ipynb>data table notebook</a>'\n",
              "            + ' to learn more about interactive tables.';\n",
              "          element.innerHTML = '';\n",
              "          dataTable['output_type'] = 'display_data';\n",
              "          await google.colab.output.renderOutput(dataTable, element);\n",
              "          const docLink = document.createElement('div');\n",
              "          docLink.innerHTML = docLinkHtml;\n",
              "          element.appendChild(docLink);\n",
              "        }\n",
              "      </script>\n",
              "    </div>\n",
              "  </div>\n",
              "  "
            ],
            "text/plain": [
              "           0     1     2     3     4     5   ...    8     9     10    11    12    13\n",
              "Xs_cont   196   200   200   216   212   185  ...   205   211   192   196   223   192\n",
              "Ns_cont  2029  1991  1951  1985  1973  2021  ...  1951  1988  1977  2019  2035  2007\n",
              "Xs_exp    179   208   205   175   191   291  ...   225   207   205   200   297   299\n",
              "Ns_exp   1971  2009  2049  2015  2027  1979  ...  2049  2012  2023  1981  1965  1993\n",
              "\n",
              "[4 rows x 14 columns]"
            ]
          },
          "metadata": {},
          "execution_count": 57
        }
      ]
    },
    {
      "cell_type": "code",
      "source": [
        "df['Total'] = [xs_cont_sum,ns_cont_sum, xs_exp_sum, ns_exp_sum]"
      ],
      "metadata": {
        "id": "viacpDm_QQjg"
      },
      "execution_count": 58,
      "outputs": []
    },
    {
      "cell_type": "code",
      "source": [
        "df"
      ],
      "metadata": {
        "colab": {
          "base_uri": "https://localhost:8080/",
          "height": 175
        },
        "id": "hKtMYOnPQQg8",
        "outputId": "82de7e4b-ffe6-4dbf-853d-5ec78902b792"
      },
      "execution_count": 59,
      "outputs": [
        {
          "output_type": "execute_result",
          "data": {
            "text/html": [
              "\n",
              "  <div id=\"df-6949b1d5-932a-4f82-8648-b6e1aba4e1a5\">\n",
              "    <div class=\"colab-df-container\">\n",
              "      <div>\n",
              "<style scoped>\n",
              "    .dataframe tbody tr th:only-of-type {\n",
              "        vertical-align: middle;\n",
              "    }\n",
              "\n",
              "    .dataframe tbody tr th {\n",
              "        vertical-align: top;\n",
              "    }\n",
              "\n",
              "    .dataframe thead th {\n",
              "        text-align: right;\n",
              "    }\n",
              "</style>\n",
              "<table border=\"1\" class=\"dataframe\">\n",
              "  <thead>\n",
              "    <tr style=\"text-align: right;\">\n",
              "      <th></th>\n",
              "      <th>0</th>\n",
              "      <th>1</th>\n",
              "      <th>2</th>\n",
              "      <th>3</th>\n",
              "      <th>4</th>\n",
              "      <th>5</th>\n",
              "      <th>6</th>\n",
              "      <th>7</th>\n",
              "      <th>8</th>\n",
              "      <th>9</th>\n",
              "      <th>10</th>\n",
              "      <th>11</th>\n",
              "      <th>12</th>\n",
              "      <th>13</th>\n",
              "      <th>Total</th>\n",
              "    </tr>\n",
              "  </thead>\n",
              "  <tbody>\n",
              "    <tr>\n",
              "      <th>Xs_cont</th>\n",
              "      <td>196</td>\n",
              "      <td>200</td>\n",
              "      <td>200</td>\n",
              "      <td>216</td>\n",
              "      <td>212</td>\n",
              "      <td>185</td>\n",
              "      <td>225</td>\n",
              "      <td>187</td>\n",
              "      <td>205</td>\n",
              "      <td>211</td>\n",
              "      <td>192</td>\n",
              "      <td>196</td>\n",
              "      <td>223</td>\n",
              "      <td>192</td>\n",
              "      <td>2840</td>\n",
              "    </tr>\n",
              "    <tr>\n",
              "      <th>Ns_cont</th>\n",
              "      <td>2029</td>\n",
              "      <td>1991</td>\n",
              "      <td>1951</td>\n",
              "      <td>1985</td>\n",
              "      <td>1973</td>\n",
              "      <td>2021</td>\n",
              "      <td>2041</td>\n",
              "      <td>1980</td>\n",
              "      <td>1951</td>\n",
              "      <td>1988</td>\n",
              "      <td>1977</td>\n",
              "      <td>2019</td>\n",
              "      <td>2035</td>\n",
              "      <td>2007</td>\n",
              "      <td>27948</td>\n",
              "    </tr>\n",
              "    <tr>\n",
              "      <th>Xs_exp</th>\n",
              "      <td>179</td>\n",
              "      <td>208</td>\n",
              "      <td>205</td>\n",
              "      <td>175</td>\n",
              "      <td>191</td>\n",
              "      <td>291</td>\n",
              "      <td>278</td>\n",
              "      <td>216</td>\n",
              "      <td>225</td>\n",
              "      <td>207</td>\n",
              "      <td>205</td>\n",
              "      <td>200</td>\n",
              "      <td>297</td>\n",
              "      <td>299</td>\n",
              "      <td>3176</td>\n",
              "    </tr>\n",
              "    <tr>\n",
              "      <th>Ns_exp</th>\n",
              "      <td>1971</td>\n",
              "      <td>2009</td>\n",
              "      <td>2049</td>\n",
              "      <td>2015</td>\n",
              "      <td>2027</td>\n",
              "      <td>1979</td>\n",
              "      <td>1959</td>\n",
              "      <td>2020</td>\n",
              "      <td>2049</td>\n",
              "      <td>2012</td>\n",
              "      <td>2023</td>\n",
              "      <td>1981</td>\n",
              "      <td>1965</td>\n",
              "      <td>1993</td>\n",
              "      <td>28052</td>\n",
              "    </tr>\n",
              "  </tbody>\n",
              "</table>\n",
              "</div>\n",
              "      <button class=\"colab-df-convert\" onclick=\"convertToInteractive('df-6949b1d5-932a-4f82-8648-b6e1aba4e1a5')\"\n",
              "              title=\"Convert this dataframe to an interactive table.\"\n",
              "              style=\"display:none;\">\n",
              "        \n",
              "  <svg xmlns=\"http://www.w3.org/2000/svg\" height=\"24px\"viewBox=\"0 0 24 24\"\n",
              "       width=\"24px\">\n",
              "    <path d=\"M0 0h24v24H0V0z\" fill=\"none\"/>\n",
              "    <path d=\"M18.56 5.44l.94 2.06.94-2.06 2.06-.94-2.06-.94-.94-2.06-.94 2.06-2.06.94zm-11 1L8.5 8.5l.94-2.06 2.06-.94-2.06-.94L8.5 2.5l-.94 2.06-2.06.94zm10 10l.94 2.06.94-2.06 2.06-.94-2.06-.94-.94-2.06-.94 2.06-2.06.94z\"/><path d=\"M17.41 7.96l-1.37-1.37c-.4-.4-.92-.59-1.43-.59-.52 0-1.04.2-1.43.59L10.3 9.45l-7.72 7.72c-.78.78-.78 2.05 0 2.83L4 21.41c.39.39.9.59 1.41.59.51 0 1.02-.2 1.41-.59l7.78-7.78 2.81-2.81c.8-.78.8-2.07 0-2.86zM5.41 20L4 18.59l7.72-7.72 1.47 1.35L5.41 20z\"/>\n",
              "  </svg>\n",
              "      </button>\n",
              "      \n",
              "  <style>\n",
              "    .colab-df-container {\n",
              "      display:flex;\n",
              "      flex-wrap:wrap;\n",
              "      gap: 12px;\n",
              "    }\n",
              "\n",
              "    .colab-df-convert {\n",
              "      background-color: #E8F0FE;\n",
              "      border: none;\n",
              "      border-radius: 50%;\n",
              "      cursor: pointer;\n",
              "      display: none;\n",
              "      fill: #1967D2;\n",
              "      height: 32px;\n",
              "      padding: 0 0 0 0;\n",
              "      width: 32px;\n",
              "    }\n",
              "\n",
              "    .colab-df-convert:hover {\n",
              "      background-color: #E2EBFA;\n",
              "      box-shadow: 0px 1px 2px rgba(60, 64, 67, 0.3), 0px 1px 3px 1px rgba(60, 64, 67, 0.15);\n",
              "      fill: #174EA6;\n",
              "    }\n",
              "\n",
              "    [theme=dark] .colab-df-convert {\n",
              "      background-color: #3B4455;\n",
              "      fill: #D2E3FC;\n",
              "    }\n",
              "\n",
              "    [theme=dark] .colab-df-convert:hover {\n",
              "      background-color: #434B5C;\n",
              "      box-shadow: 0px 1px 3px 1px rgba(0, 0, 0, 0.15);\n",
              "      filter: drop-shadow(0px 1px 2px rgba(0, 0, 0, 0.3));\n",
              "      fill: #FFFFFF;\n",
              "    }\n",
              "  </style>\n",
              "\n",
              "      <script>\n",
              "        const buttonEl =\n",
              "          document.querySelector('#df-6949b1d5-932a-4f82-8648-b6e1aba4e1a5 button.colab-df-convert');\n",
              "        buttonEl.style.display =\n",
              "          google.colab.kernel.accessAllowed ? 'block' : 'none';\n",
              "\n",
              "        async function convertToInteractive(key) {\n",
              "          const element = document.querySelector('#df-6949b1d5-932a-4f82-8648-b6e1aba4e1a5');\n",
              "          const dataTable =\n",
              "            await google.colab.kernel.invokeFunction('convertToInteractive',\n",
              "                                                     [key], {});\n",
              "          if (!dataTable) return;\n",
              "\n",
              "          const docLinkHtml = 'Like what you see? Visit the ' +\n",
              "            '<a target=\"_blank\" href=https://colab.research.google.com/notebooks/data_table.ipynb>data table notebook</a>'\n",
              "            + ' to learn more about interactive tables.';\n",
              "          element.innerHTML = '';\n",
              "          dataTable['output_type'] = 'display_data';\n",
              "          await google.colab.output.renderOutput(dataTable, element);\n",
              "          const docLink = document.createElement('div');\n",
              "          docLink.innerHTML = docLinkHtml;\n",
              "          element.appendChild(docLink);\n",
              "        }\n",
              "      </script>\n",
              "    </div>\n",
              "  </div>\n",
              "  "
            ],
            "text/plain": [
              "            0     1     2     3     4  ...    10    11    12    13  Total\n",
              "Xs_cont   196   200   200   216   212  ...   192   196   223   192   2840\n",
              "Ns_cont  2029  1991  1951  1985  1973  ...  1977  2019  2035  2007  27948\n",
              "Xs_exp    179   208   205   175   191  ...   205   200   297   299   3176\n",
              "Ns_exp   1971  2009  2049  2015  2027  ...  2023  1981  1965  1993  28052\n",
              "\n",
              "[4 rows x 15 columns]"
            ]
          },
          "metadata": {},
          "execution_count": 59
        }
      ]
    },
    {
      "cell_type": "markdown",
      "source": [
        "# **Sanity Check**"
      ],
      "metadata": {
        "id": "ys-LZOKnXuMZ"
      }
    },
    {
      "cell_type": "markdown",
      "source": [
        "Compute sd of binomial with probability = 0.5 of success"
      ],
      "metadata": {
        "id": "KqkEpFAxX1dD"
      }
    },
    {
      "cell_type": "code",
      "source": [
        "se1 = np.sqrt((0.5*0.5)/(df.Total.loc['Ns_cont']+df.Total.loc['Ns_exp']))\n",
        "se1"
      ],
      "metadata": {
        "colab": {
          "base_uri": "https://localhost:8080/"
        },
        "id": "TCQAK943Xt_u",
        "outputId": "f6a7d280-99be-491e-b2c0-53ec3300255d"
      },
      "execution_count": 73,
      "outputs": [
        {
          "output_type": "execute_result",
          "data": {
            "text/plain": [
              "0.0021128856368212916"
            ]
          },
          "metadata": {},
          "execution_count": 73
        }
      ]
    },
    {
      "cell_type": "markdown",
      "source": [
        "Look at margin of error"
      ],
      "metadata": {
        "id": "9ufkVbXEY2aQ"
      }
    },
    {
      "cell_type": "code",
      "source": [
        "m = se1*1.96\n",
        "m"
      ],
      "metadata": {
        "colab": {
          "base_uri": "https://localhost:8080/"
        },
        "id": "zHxWzfsTXt49",
        "outputId": "0d953879-64a6-44ac-b46d-4e99c44d473d"
      },
      "execution_count": 74,
      "outputs": [
        {
          "output_type": "execute_result",
          "data": {
            "text/plain": [
              "0.004141255848169731"
            ]
          },
          "metadata": {},
          "execution_count": 74
        }
      ]
    },
    {
      "cell_type": "markdown",
      "source": [
        "Compute confidence interval around 0.5"
      ],
      "metadata": {
        "id": "oMxaUDQ-ZE5Z"
      }
    },
    {
      "cell_type": "code",
      "source": [
        "conf_int = (0.5-m, 0.5+m)\n",
        "conf_int"
      ],
      "metadata": {
        "colab": {
          "base_uri": "https://localhost:8080/"
        },
        "id": "c1WO2KHbXt1u",
        "outputId": "1fa48b81-6cf8-42d3-fbfd-b5d2a5dabc6d"
      },
      "execution_count": 75,
      "outputs": [
        {
          "output_type": "execute_result",
          "data": {
            "text/plain": [
              "(0.4958587441518303, 0.5041412558481697)"
            ]
          },
          "metadata": {},
          "execution_count": 75
        }
      ]
    },
    {
      "cell_type": "markdown",
      "source": [
        "Check whether observed fraction is within interval"
      ],
      "metadata": {
        "id": "0xyPFp9Sbu76"
      }
    },
    {
      "cell_type": "code",
      "source": [
        "p = df.Total.loc['Ns_exp']/(df.Total.loc['Ns_exp']+df.Total.loc['Ns_cont'])\n",
        "p"
      ],
      "metadata": {
        "colab": {
          "base_uri": "https://localhost:8080/"
        },
        "id": "vC6T_5A8XtzV",
        "outputId": "5c495e9f-01e2-4d74-e665-0af7e7dfd262"
      },
      "execution_count": 76,
      "outputs": [
        {
          "output_type": "execute_result",
          "data": {
            "text/plain": [
              "0.5009285714285714"
            ]
          },
          "metadata": {},
          "execution_count": 76
        }
      ]
    },
    {
      "cell_type": "markdown",
      "source": [
        "p is within the confidence interval, therefore, sanity check is passed. "
      ],
      "metadata": {
        "id": "DiNbmP1ocMZd"
      }
    },
    {
      "cell_type": "markdown",
      "source": [
        "# **A/B-test analysis**"
      ],
      "metadata": {
        "id": "PHF1IerIcXmK"
      }
    },
    {
      "cell_type": "markdown",
      "source": [
        "d_min = 0.1, alpha = 0.05, beta = 0.2"
      ],
      "metadata": {
        "id": "5ylMXwAYcoiZ"
      }
    },
    {
      "cell_type": "code",
      "source": [
        "empirical_se = 0.0062\n",
        "emp_pageviews = 5000"
      ],
      "metadata": {
        "id": "4LhwyZTLcn-6"
      },
      "execution_count": 72,
      "outputs": []
    },
    {
      "cell_type": "code",
      "source": [
        "se = (empirical_se*np.sqrt(1/df.Total.loc['Ns_exp']+1/df.Total.loc['Ns_cont']))/np.sqrt(1/5000+1/5000)\n",
        "se"
      ],
      "metadata": {
        "colab": {
          "base_uri": "https://localhost:8080/"
        },
        "id": "RYO7DtqxXtwy",
        "outputId": "8cf40c93-57a1-48a2-8888-15bee4118278"
      },
      "execution_count": 78,
      "outputs": [
        {
          "output_type": "execute_result",
          "data": {
            "text/plain": [
              "0.002619982707795742"
            ]
          },
          "metadata": {},
          "execution_count": 78
        }
      ]
    },
    {
      "cell_type": "markdown",
      "source": [
        "d = r_exp - r_cont"
      ],
      "metadata": {
        "id": "dwGeLOa2d-ea"
      }
    },
    {
      "cell_type": "code",
      "source": [
        "d = df.Total.loc['Xs_exp']/df.Total.loc['Ns_exp'] - df.Total.loc['Xs_cont']/df.Total.loc['Ns_cont']\n",
        "d"
      ],
      "metadata": {
        "colab": {
          "base_uri": "https://localhost:8080/"
        },
        "id": "Gqz3fDFed9_T",
        "outputId": "e05f37c8-55e5-4858-8f70-30b271f6f8bb"
      },
      "execution_count": 81,
      "outputs": [
        {
          "output_type": "execute_result",
          "data": {
            "text/plain": [
              "0.011601019603516588"
            ]
          },
          "metadata": {},
          "execution_count": 81
        }
      ]
    },
    {
      "cell_type": "code",
      "source": [
        "m2 = se*1.96\n",
        "m2"
      ],
      "metadata": {
        "colab": {
          "base_uri": "https://localhost:8080/"
        },
        "id": "b91I7A7WchOu",
        "outputId": "291ab074-8fc2-41c5-912e-cadb846e82fa"
      },
      "execution_count": 83,
      "outputs": [
        {
          "output_type": "execute_result",
          "data": {
            "text/plain": [
              "0.005135166107279654"
            ]
          },
          "metadata": {},
          "execution_count": 83
        }
      ]
    },
    {
      "cell_type": "code",
      "source": [
        "conf_int2 = (d-m, d+m)\n",
        "conf_int2"
      ],
      "metadata": {
        "colab": {
          "base_uri": "https://localhost:8080/"
        },
        "id": "KpufcFufchMK",
        "outputId": "5d205448-241a-4c70-cf7b-b515a3b68c6d"
      },
      "execution_count": 85,
      "outputs": [
        {
          "output_type": "execute_result",
          "data": {
            "text/plain": [
              "(0.007459763755346857, 0.01574227545168632)"
            ]
          },
          "metadata": {},
          "execution_count": 85
        }
      ]
    },
    {
      "cell_type": "markdown",
      "source": [
        "d_min (practical significance boundary) = 0.01 is within confidence interval, therefore, we are not sure about results, despite the fact, that confidence interval does not include 0 (statistically significant result)\n",
        "\n",
        "So, we won't implement a new button in our site."
      ],
      "metadata": {
        "id": "jhqS3Z7Denvj"
      }
    }
  ]
}